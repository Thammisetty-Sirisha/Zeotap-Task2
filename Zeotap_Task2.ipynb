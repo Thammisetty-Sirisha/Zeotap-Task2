{
  "nbformat": 4,
  "nbformat_minor": 0,
  "metadata": {
    "colab": {
      "provenance": [],
      "mount_file_id": "14irsD0mwtkjTDRtzS50Ivam9Oy6i-cE8",
      "authorship_tag": "ABX9TyMl9tm9P+X5Q9uoG0I3bmec",
      "include_colab_link": true
    },
    "kernelspec": {
      "name": "python3",
      "display_name": "Python 3"
    },
    "language_info": {
      "name": "python"
    }
  },
  "cells": [
    {
      "cell_type": "markdown",
      "metadata": {
        "id": "view-in-github",
        "colab_type": "text"
      },
      "source": [
        "<a href=\"https://colab.research.google.com/github/Thammisetty-Sirisha/Zeotap-Task2/blob/main/Zeotap_Task2.ipynb\" target=\"_parent\"><img src=\"https://colab.research.google.com/assets/colab-badge.svg\" alt=\"Open In Colab\"/></a>"
      ]
    },
    {
      "cell_type": "code",
      "source": [
        "from google.colab import drive\n",
        "drive.mount('/content/drive')"
      ],
      "metadata": {
        "colab": {
          "base_uri": "https://localhost:8080/"
        },
        "id": "yD-JQe_5z0Qu",
        "outputId": "9148e9c4-ee04-4e76-9321-e6e0e48590dc"
      },
      "execution_count": null,
      "outputs": [
        {
          "output_type": "stream",
          "name": "stdout",
          "text": [
            "Drive already mounted at /content/drive; to attempt to forcibly remount, call drive.mount(\"/content/drive\", force_remount=True).\n"
          ]
        }
      ]
    },
    {
      "cell_type": "code",
      "execution_count": null,
      "metadata": {
        "id": "hcB7Ars5yJrz"
      },
      "outputs": [],
      "source": [
        "import pandas as pd\n",
        "from sklearn.preprocessing import StandardScaler\n",
        "from sklearn.metrics.pairwise import cosine_similarity\n"
      ]
    },
    {
      "cell_type": "code",
      "source": [
        "customers_df = pd.read_csv('/content/drive/MyDrive/Customers.csv')\n",
        "products_df = pd.read_csv('/content/drive/MyDrive/Products.csv')\n",
        "transactions_df = pd.read_csv('/content/drive/MyDrive/Transactions.csv')"
      ],
      "metadata": {
        "id": "UYHMYCPI3a4u"
      },
      "execution_count": null,
      "outputs": []
    },
    {
      "cell_type": "code",
      "source": [
        "transactions_df['TransactionDate'] = pd.to_datetime(transactions_df['TransactionDate'])\n",
        "merged_data = transactions_df.merge(products_df, on='ProductID', how='left')\n",
        "merged_data = merged_data.merge(customers_df[['CustomerID', 'Region']], on='CustomerID', how='left')"
      ],
      "metadata": {
        "id": "UDJcdlG4-wM8"
      },
      "execution_count": null,
      "outputs": []
    },
    {
      "cell_type": "code",
      "source": [
        "customer_features = merged_data.groupby('CustomerID').agg({\n",
        "    'TotalValue': 'sum',  # Total spending\n",
        "    'TransactionID': 'count',  # Number of transactions\n",
        "    'Quantity': 'sum'  # Total quantity purchased\n",
        "}).rename(columns={'TransactionID': 'NumTransactions', 'TotalValue': 'TotalSpending'})"
      ],
      "metadata": {
        "id": "1WmnAmHb_Ir-"
      },
      "execution_count": null,
      "outputs": []
    },
    {
      "cell_type": "code",
      "source": [
        "category_pivot = pd.pivot_table(\n",
        "    merged_data, values='Quantity', index='CustomerID', columns='Category', aggfunc='sum', fill_value=0\n",
        ")\n",
        "customer_features = customer_features.join(category_pivot)"
      ],
      "metadata": {
        "id": "lYo8SdDL_Nv1"
      },
      "execution_count": null,
      "outputs": []
    },
    {
      "cell_type": "code",
      "source": [
        "region_encoded = pd.get_dummies(customers_df.set_index('CustomerID')['Region'])\n",
        "customer_features = customer_features.join(region_encoded)"
      ],
      "metadata": {
        "id": "yddXmV2V_Qkg"
      },
      "execution_count": null,
      "outputs": []
    },
    {
      "cell_type": "code",
      "source": [
        "scaler = StandardScaler()\n",
        "scaled_features = scaler.fit_transform(customer_features)"
      ],
      "metadata": {
        "id": "ie_DOh7Z_TCo"
      },
      "execution_count": null,
      "outputs": []
    },
    {
      "cell_type": "code",
      "source": [
        "similarity_matrix = cosine_similarity(scaled_features)"
      ],
      "metadata": {
        "id": "xLPC_ptV_ViK"
      },
      "execution_count": null,
      "outputs": []
    },
    {
      "cell_type": "code",
      "source": [
        "customer_ids = customer_features.index.tolist()\n",
        "recommendations = {}"
      ],
      "metadata": {
        "id": "O6e1gfgs_X9q"
      },
      "execution_count": null,
      "outputs": []
    },
    {
      "cell_type": "code",
      "source": [
        "for i, customer_id in enumerate(customer_ids):\n",
        "    similarity_scores = list(enumerate(similarity_matrix[i]))\n",
        "    sorted_scores = sorted(similarity_scores, key=lambda x: x[1], reverse=True)[1:4]\n",
        "    recommendations[customer_id] = [(customer_ids[j], round(score, 4)) for j, score in sorted_scores]"
      ],
      "metadata": {
        "id": "4rcFsQIx_fWC"
      },
      "execution_count": null,
      "outputs": []
    },
    {
      "cell_type": "code",
      "source": [
        "recommendations_df = pd.DataFrame({\n",
        "    'CustomerID': recommendations.keys(),\n",
        "    'Recommendations': [str(value) for value in recommendations.values()]\n",
        "})"
      ],
      "metadata": {
        "id": "PehqPHG0_7M-"
      },
      "execution_count": null,
      "outputs": []
    },
    {
      "cell_type": "code",
      "source": [
        "recommendations_df.to_csv('Sirisha_Thammisetty_Lookalike.csv', index=False)\n",
        "\n",
        "print(\"Lookalike Model Completed. Recommendations saved to '/content/Sirisha_Thammisetty_Lookalike.csv'.\")"
      ],
      "metadata": {
        "colab": {
          "base_uri": "https://localhost:8080/"
        },
        "id": "cPH1k2zB__nD",
        "outputId": "71a18c3c-928c-4469-e5c0-ae48df99c893"
      },
      "execution_count": null,
      "outputs": [
        {
          "output_type": "stream",
          "name": "stdout",
          "text": [
            "Lookalike Model Completed. Recommendations saved to '/content/Sirisha_Thammisetty_Lookalike.csv'.\n"
          ]
        }
      ]
    }
  ]
}